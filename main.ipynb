{
  "nbformat": 4,
  "nbformat_minor": 0,
  "metadata": {
    "colab": {
      "name": "main.ipynb",
      "provenance": [],
      "collapsed_sections": [],
      "authorship_tag": "ABX9TyOoyMJtJGy/VsmU8Mu0S0xn",
      "include_colab_link": true
    },
    "kernelspec": {
      "name": "python3",
      "display_name": "Python 3"
    },
    "language_info": {
      "name": "python"
    }
  },
  "cells": [
    {
      "cell_type": "markdown",
      "metadata": {
        "id": "view-in-github",
        "colab_type": "text"
      },
      "source": [
        "<a href=\"https://colab.research.google.com/github/makinzm/Qiita-Blog-2022-08-14/blob/main/main.ipynb\" target=\"_parent\"><img src=\"https://colab.research.google.com/assets/colab-badge.svg\" alt=\"Open In Colab\"/></a>"
      ]
    },
    {
      "cell_type": "code",
      "execution_count": null,
      "metadata": {
        "id": "3AMd-1-xvFDU",
        "colab": {
          "base_uri": "https://localhost:8080/"
        },
        "outputId": "958c7d36-1257-4ecf-90aa-ef101e7c3ac0"
      },
      "outputs": [
        {
          "output_type": "stream",
          "name": "stdout",
          "text": [
            "Mounted at /content/drive\n",
            "torch.__version__:  1.0.0\n",
            "torch.__version__ in qiita.func.func:  1.0.0\n",
            "Printed Number Is 20220814 😄\n"
          ]
        }
      ],
      "source": [
        "from google.colab import drive\n",
        "drive.mount('/content/drive')\n",
        "\n",
        "### *** ###\n",
        "# 通常(2022/08/14時点)では1.12.1+cu113がデフォルトでinstallされているが, 次の指定で 1.0.0をimportできる.\n",
        "from subprocess import run\n",
        "run(\"pip install torch==1.0.0\",shell=True)\n",
        "import torch\n",
        "print(\"torch.__version__: \",torch.__version__)\n",
        "### *** ### ここの部分を main.py の中に書くと予期しない動作が起きる.(非同期処理になってしまうため ← main.pyに入れ込む方法はわかりませんでした.)\n",
        "\n",
        "%run /content/drive/MyDrive/Qiita_env_01/main.py 20220814"
      ]
    },
    {
      "cell_type": "code",
      "source": [
        ""
      ],
      "metadata": {
        "id": "2C1nMYSJIyR6"
      },
      "execution_count": null,
      "outputs": []
    }
  ]
}