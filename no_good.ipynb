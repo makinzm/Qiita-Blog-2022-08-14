{
  "nbformat": 4,
  "nbformat_minor": 0,
  "metadata": {
    "colab": {
      "name": "no-good.ipynb",
      "provenance": [],
      "collapsed_sections": [],
      "authorship_tag": "ABX9TyO1PezgN/M6BGtV26QjK48W",
      "include_colab_link": true
    },
    "kernelspec": {
      "name": "python3",
      "display_name": "Python 3"
    },
    "language_info": {
      "name": "python"
    }
  },
  "cells": [
    {
      "cell_type": "markdown",
      "metadata": {
        "id": "view-in-github",
        "colab_type": "text"
      },
      "source": [
        "<a href=\"https://colab.research.google.com/github/makinzm/Qiita-Blog-2022-08-14/blob/main/no_good.ipynb\" target=\"_parent\"><img src=\"https://colab.research.google.com/assets/colab-badge.svg\" alt=\"Open In Colab\"/></a>"
      ]
    },
    {
      "cell_type": "code",
      "execution_count": null,
      "metadata": {
        "id": "3AMd-1-xvFDU",
        "colab": {
          "base_uri": "https://localhost:8080/"
        },
        "outputId": "9c93034e-56c2-41bc-ed3b-f17ef36f725a"
      },
      "outputs": [
        {
          "output_type": "stream",
          "name": "stdout",
          "text": [
            "Mounted at /content/drive\n",
            "torch.__version__ in qiita.func.func:  1.12.1+cu113\n",
            "Printed Number Is 20220814 😄\n"
          ]
        }
      ],
      "source": [
        "from google.colab import drive\n",
        "drive.mount('/content/drive')\n",
        "\n",
        "%run /content/drive/MyDrive/Qiita_env_01/main.py 20220814"
      ]
    },
    {
      "cell_type": "code",
      "source": [
        ""
      ],
      "metadata": {
        "id": "po1VE7BTG7bg"
      },
      "execution_count": null,
      "outputs": []
    }
  ]
}